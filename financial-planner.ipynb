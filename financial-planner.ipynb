{
 "cells": [
  {
   "cell_type": "markdown",
   "metadata": {},
   "source": [
    "# Unit 5 - Financial Planning"
   ]
  },
  {
   "cell_type": "code",
   "execution_count": 1,
   "metadata": {},
   "outputs": [],
   "source": [
    "# Initial imports\n",
    "import os\n",
    "import requests\n",
    "import pandas as pd\n",
    "from dotenv import load_dotenv\n",
    "import alpaca_trade_api as tradeapi\n",
    "from MCForecastTools import MCSimulation\n",
    "\n",
    "%matplotlib inline"
   ]
  },
  {
   "cell_type": "code",
   "execution_count": 2,
   "metadata": {},
   "outputs": [
    {
     "data": {
      "text/plain": [
       "True"
      ]
     },
     "execution_count": 2,
     "metadata": {},
     "output_type": "execute_result"
    }
   ],
   "source": [
    "# Load .env enviroment variables\n",
    "load_dotenv()"
   ]
  },
  {
   "cell_type": "markdown",
   "metadata": {},
   "source": [
    "## Part 1 - Personal Finance Planner"
   ]
  },
  {
   "cell_type": "markdown",
   "metadata": {},
   "source": [
    "### Collect Crypto Prices Using the `requests` Library"
   ]
  },
  {
   "cell_type": "code",
   "execution_count": 3,
   "metadata": {},
   "outputs": [],
   "source": [
    "# Set current amount of crypto assets\n",
    "my_btc = 1.2\n",
    "my_eth = 5.3"
   ]
  },
  {
   "cell_type": "code",
   "execution_count": 4,
   "metadata": {},
   "outputs": [],
   "source": [
    "# Crypto API URLs\n",
    "btc_url = \"https://api.alternative.me/v2/ticker/Bitcoin/?convert=CAD\"\n",
    "eth_url = \"https://api.alternative.me/v2/ticker/Ethereum/?convert=CAD\""
   ]
  },
  {
   "cell_type": "code",
   "execution_count": 5,
   "metadata": {},
   "outputs": [
    {
     "name": "stdout",
     "output_type": "stream",
     "text": [
      "The current value of your 1.2 BTC is $59235.32\n",
      "The current value of your 5.3 ETH is $19582.15\n"
     ]
    }
   ],
   "source": [
    "# Fetch current BTC price\n",
    "btc_request = requests.get(btc_url)\n",
    "btc_request = btc_request.json()\n",
    "btc_price = btc_request['data']['1']['quotes']['CAD']['price']\n",
    "\n",
    "# Fetch current ETH price\n",
    "eth_request = requests.get(eth_url)\n",
    "eth_request = eth_request.json()\n",
    "eth_price = eth_request['data']['1027']['quotes']['CAD']['price']\n",
    "\n",
    "# Compute current value of my crpto\n",
    "my_btc_value = my_btc * btc_price\n",
    "my_eth_value = my_eth * eth_price\n",
    "\n",
    "# Print current crypto wallet balance\n",
    "print(f\"The current value of your {my_btc} BTC is ${my_btc_value:0.2f}\")\n",
    "print(f\"The current value of your {my_eth} ETH is ${my_eth_value:0.2f}\")"
   ]
  },
  {
   "cell_type": "markdown",
   "metadata": {},
   "source": [
    "### Collect Investments Data Using Alpaca: `SPY` (stocks) and `AGG` (bonds)"
   ]
  },
  {
   "cell_type": "code",
   "execution_count": 6,
   "metadata": {},
   "outputs": [],
   "source": [
    "# Set current amount of shares\n",
    "my_agg = 200\n",
    "my_spy = 50"
   ]
  },
  {
   "cell_type": "code",
   "execution_count": 7,
   "metadata": {},
   "outputs": [],
   "source": [
    "# Set Alpaca API key and secret\n",
    "alpaca_key = os.getenv('ALPACA_API_KEY')\n",
    "alpaca_priv_key = os.getenv('ALPACA_SECRET_KEY')\n",
    "\n",
    "# Create the Alpaca API object\n",
    "api = tradeapi.REST(\n",
    "    alpaca_key,\n",
    "    alpaca_priv_key,\n",
    "    api_version = 'v2')"
   ]
  },
  {
   "cell_type": "code",
   "execution_count": 8,
   "metadata": {},
   "outputs": [],
   "source": [
    "# Format current date as ISO format\n",
    "today = pd.Timestamp(\"2022-04-14\", tz=\"America/New_York\").isoformat()\n",
    "\n",
    "# Set the tickers\n",
    "tickers = [\"AGG\", \"SPY\"]\n",
    "\n",
    "# Set timeframe to \"1Day\" for Alpaca API\n",
    "timeframe = \"1Day\"\n",
    "\n",
    "# Get current closing prices for SPY and AGG\n",
    "df_portfolio = api.get_bars(\n",
    "    tickers,\n",
    "    timeframe,\n",
    "    start = today,\n",
    "    end = today\n",
    ").df"
   ]
  },
  {
   "cell_type": "code",
   "execution_count": 9,
   "metadata": {},
   "outputs": [],
   "source": [
    "# Reorganize the DataFrame\n",
    "# Separate ticker data\n",
    "agg = df_portfolio[df_portfolio['symbol']=='AGG'].drop('symbol', axis=1)\n",
    "spy = df_portfolio[df_portfolio['symbol']=='SPY'].drop('symbol', axis=1)"
   ]
  },
  {
   "cell_type": "code",
   "execution_count": 10,
   "metadata": {},
   "outputs": [
    {
     "data": {
      "text/html": [
       "<div>\n",
       "<style scoped>\n",
       "    .dataframe tbody tr th:only-of-type {\n",
       "        vertical-align: middle;\n",
       "    }\n",
       "\n",
       "    .dataframe tbody tr th {\n",
       "        vertical-align: top;\n",
       "    }\n",
       "\n",
       "    .dataframe thead tr th {\n",
       "        text-align: left;\n",
       "    }\n",
       "\n",
       "    .dataframe thead tr:last-of-type th {\n",
       "        text-align: right;\n",
       "    }\n",
       "</style>\n",
       "<table border=\"1\" class=\"dataframe\">\n",
       "  <thead>\n",
       "    <tr>\n",
       "      <th></th>\n",
       "      <th colspan=\"7\" halign=\"left\">AGG</th>\n",
       "      <th colspan=\"7\" halign=\"left\">SPY</th>\n",
       "    </tr>\n",
       "    <tr>\n",
       "      <th></th>\n",
       "      <th>open</th>\n",
       "      <th>high</th>\n",
       "      <th>low</th>\n",
       "      <th>close</th>\n",
       "      <th>volume</th>\n",
       "      <th>trade_count</th>\n",
       "      <th>vwap</th>\n",
       "      <th>open</th>\n",
       "      <th>high</th>\n",
       "      <th>low</th>\n",
       "      <th>close</th>\n",
       "      <th>volume</th>\n",
       "      <th>trade_count</th>\n",
       "      <th>vwap</th>\n",
       "    </tr>\n",
       "    <tr>\n",
       "      <th>timestamp</th>\n",
       "      <th></th>\n",
       "      <th></th>\n",
       "      <th></th>\n",
       "      <th></th>\n",
       "      <th></th>\n",
       "      <th></th>\n",
       "      <th></th>\n",
       "      <th></th>\n",
       "      <th></th>\n",
       "      <th></th>\n",
       "      <th></th>\n",
       "      <th></th>\n",
       "      <th></th>\n",
       "      <th></th>\n",
       "    </tr>\n",
       "  </thead>\n",
       "  <tbody>\n",
       "    <tr>\n",
       "      <th>2022-04-14 04:00:00+00:00</th>\n",
       "      <td>104.73</td>\n",
       "      <td>104.74</td>\n",
       "      <td>103.93</td>\n",
       "      <td>103.97</td>\n",
       "      <td>8505987</td>\n",
       "      <td>30443</td>\n",
       "      <td>104.171733</td>\n",
       "      <td>443.44</td>\n",
       "      <td>444.7301</td>\n",
       "      <td>437.68</td>\n",
       "      <td>437.79</td>\n",
       "      <td>98667135</td>\n",
       "      <td>703727</td>\n",
       "      <td>440.305786</td>\n",
       "    </tr>\n",
       "  </tbody>\n",
       "</table>\n",
       "</div>"
      ],
      "text/plain": [
       "                              AGG                                   \\\n",
       "                             open    high     low   close   volume   \n",
       "timestamp                                                            \n",
       "2022-04-14 04:00:00+00:00  104.73  104.74  103.93  103.97  8505987   \n",
       "\n",
       "                                                      SPY                    \\\n",
       "                          trade_count        vwap    open      high     low   \n",
       "timestamp                                                                     \n",
       "2022-04-14 04:00:00+00:00       30443  104.171733  443.44  444.7301  437.68   \n",
       "\n",
       "                                                                     \n",
       "                            close    volume trade_count        vwap  \n",
       "timestamp                                                            \n",
       "2022-04-14 04:00:00+00:00  437.79  98667135      703727  440.305786  "
      ]
     },
     "execution_count": 10,
     "metadata": {},
     "output_type": "execute_result"
    }
   ],
   "source": [
    "# Concatenate the ticker DataFrames\n",
    "df_portfolio = pd.concat([agg, spy],axis=1, keys=['AGG', 'SPY'])\n",
    "# Preview DataFrame\n",
    "df_portfolio"
   ]
  },
  {
   "cell_type": "code",
   "execution_count": 11,
   "metadata": {},
   "outputs": [
    {
     "name": "stdout",
     "output_type": "stream",
     "text": [
      "Current AGG closing price: $103.97\n",
      "Current SPY closing price: $437.79\n"
     ]
    }
   ],
   "source": [
    "# Pick AGG and SPY close prices\n",
    "agg_close_price = float(df_portfolio['AGG']['close'])\n",
    "spy_close_price = float(df_portfolio['SPY']['close'])\n",
    "\n",
    "# Print AGG and SPY close prices\n",
    "print(f\"Current AGG closing price: ${agg_close_price}\")\n",
    "print(f\"Current SPY closing price: ${spy_close_price}\")"
   ]
  },
  {
   "cell_type": "code",
   "execution_count": 12,
   "metadata": {},
   "outputs": [
    {
     "name": "stdout",
     "output_type": "stream",
     "text": [
      "The current value of your 50 SPY shares is $20794.00\n",
      "The current value of your 200 AGG shares is $21889.50\n"
     ]
    }
   ],
   "source": [
    "# Compute the current value of shares\n",
    "my_spy_value = agg_close_price * my_agg\n",
    "my_agg_value = spy_close_price * my_spy\n",
    "\n",
    "# Print current value of shares\n",
    "print(f\"The current value of your {my_spy} SPY shares is ${my_spy_value:0.2f}\")\n",
    "print(f\"The current value of your {my_agg} AGG shares is ${my_agg_value:0.2f}\")"
   ]
  },
  {
   "cell_type": "markdown",
   "metadata": {},
   "source": [
    "### Savings Health Analysis"
   ]
  },
  {
   "cell_type": "code",
   "execution_count": 13,
   "metadata": {},
   "outputs": [
    {
     "data": {
      "text/html": [
       "<div>\n",
       "<style scoped>\n",
       "    .dataframe tbody tr th:only-of-type {\n",
       "        vertical-align: middle;\n",
       "    }\n",
       "\n",
       "    .dataframe tbody tr th {\n",
       "        vertical-align: top;\n",
       "    }\n",
       "\n",
       "    .dataframe thead th {\n",
       "        text-align: right;\n",
       "    }\n",
       "</style>\n",
       "<table border=\"1\" class=\"dataframe\">\n",
       "  <thead>\n",
       "    <tr style=\"text-align: right;\">\n",
       "      <th></th>\n",
       "      <th>0</th>\n",
       "    </tr>\n",
       "  </thead>\n",
       "  <tbody>\n",
       "    <tr>\n",
       "      <th>Crypto</th>\n",
       "      <td>78817.463293</td>\n",
       "    </tr>\n",
       "    <tr>\n",
       "      <th>Stocks</th>\n",
       "      <td>42683.500000</td>\n",
       "    </tr>\n",
       "  </tbody>\n",
       "</table>\n",
       "</div>"
      ],
      "text/plain": [
       "                   0\n",
       "Crypto  78817.463293\n",
       "Stocks  42683.500000"
      ]
     },
     "metadata": {},
     "output_type": "display_data"
    }
   ],
   "source": [
    "# Set monthly household income\n",
    "monthly_income = 12000\n",
    "\n",
    "# Consolidate financial assets data\n",
    "crypto_assets = my_btc_value + my_eth_value\n",
    "stock_assets = my_agg_value + my_spy_value\n",
    "\n",
    "# Create savings DataFrame\n",
    "df_savings = pd.DataFrame([crypto_assets, stock_assets], index=['Crypto', 'Stocks'])\n",
    "\n",
    "# Display savings DataFrame\n",
    "display(df_savings)"
   ]
  },
  {
   "cell_type": "code",
   "execution_count": 14,
   "metadata": {},
   "outputs": [
    {
     "data": {
      "text/plain": [
       "array([<AxesSubplot:ylabel='0'>], dtype=object)"
      ]
     },
     "execution_count": 14,
     "metadata": {},
     "output_type": "execute_result"
    },
    {
     "data": {
      "image/png": "[encoded data removed]",
      "text/plain": [
       "<Figure size 576x576 with 1 Axes>"
      ]
     },
     "metadata": {},
     "output_type": "display_data"
    }
   ],
   "source": [
    "# Plot savings pie chart\n",
    "df_savings.plot.pie(subplots=True, title=\"Savings Composition\", figsize=(8,8))"
   ]
  },
  {
   "cell_type": "code",
   "execution_count": 15,
   "metadata": {},
   "outputs": [
    {
     "name": "stdout",
     "output_type": "stream",
     "text": [
      "Your current savings health is: +$85500.96\n"
     ]
    }
   ],
   "source": [
    "# Set ideal emergency fund\n",
    "emergency_fund = monthly_income * 3\n",
    "\n",
    "# Calculate total amount of savings\n",
    "savings = stock_assets + crypto_assets\n",
    "\n",
    "# Validate saving health\n",
    "saving_health = savings - emergency_fund\n",
    "print(f'Your current savings health is: +${saving_health:0.2f}')"
   ]
  },
  {
   "cell_type": "markdown",
   "metadata": {},
   "source": [
    "## Part 2 - Retirement Planning\n",
    "\n",
    "### Monte Carlo Simulation"
   ]
  },
  {
   "cell_type": "code",
   "execution_count": 16,
   "metadata": {},
   "outputs": [],
   "source": [
    "# Set start and end dates of five years back from today.\n",
    "# Sample results may vary from the solution based on the time frame chosen\n",
    "start_date = pd.Timestamp('2017-04-01', tz='America/New_York').isoformat()\n",
    "end_date = pd.Timestamp('2022-04-01', tz='America/New_York').isoformat()\n",
    "timeframe = '1Day'"
   ]
  },
  {
   "cell_type": "code",
   "execution_count": 17,
   "metadata": {},
   "outputs": [],
   "source": [
    "# Get 5 years' worth of historical data for SPY and AGG\n",
    "year_5_df = api.get_bars(\n",
    "    tickers,\n",
    "    timeframe,\n",
    "    start = start_date,\n",
    "    end = end_date).df"
   ]
  },
  {
   "cell_type": "code",
   "execution_count": 18,
   "metadata": {},
   "outputs": [],
   "source": [
    "# Reorganize the DataFrame\n",
    "# Separate ticker data\n",
    "agg_5 = year_5_df[year_5_df['symbol']=='AGG'].drop('symbol', axis=1)\n",
    "spy_5 = year_5_df[year_5_df['symbol']=='SPY'].drop('symbol', axis=1)"
   ]
  },
  {
   "cell_type": "code",
   "execution_count": 19,
   "metadata": {},
   "outputs": [
    {
     "data": {
      "text/html": [
       "<div>\n",
       "<style scoped>\n",
       "    .dataframe tbody tr th:only-of-type {\n",
       "        vertical-align: middle;\n",
       "    }\n",
       "\n",
       "    .dataframe tbody tr th {\n",
       "        vertical-align: top;\n",
       "    }\n",
       "\n",
       "    .dataframe thead tr th {\n",
       "        text-align: left;\n",
       "    }\n",
       "\n",
       "    .dataframe thead tr:last-of-type th {\n",
       "        text-align: right;\n",
       "    }\n",
       "</style>\n",
       "<table border=\"1\" class=\"dataframe\">\n",
       "  <thead>\n",
       "    <tr>\n",
       "      <th></th>\n",
       "      <th colspan=\"7\" halign=\"left\">AGG</th>\n",
       "      <th colspan=\"7\" halign=\"left\">SPY</th>\n",
       "    </tr>\n",
       "    <tr>\n",
       "      <th></th>\n",
       "      <th>open</th>\n",
       "      <th>high</th>\n",
       "      <th>low</th>\n",
       "      <th>close</th>\n",
       "      <th>volume</th>\n",
       "      <th>trade_count</th>\n",
       "      <th>vwap</th>\n",
       "      <th>open</th>\n",
       "      <th>high</th>\n",
       "      <th>low</th>\n",
       "      <th>close</th>\n",
       "      <th>volume</th>\n",
       "      <th>trade_count</th>\n",
       "      <th>vwap</th>\n",
       "    </tr>\n",
       "    <tr>\n",
       "      <th>timestamp</th>\n",
       "      <th></th>\n",
       "      <th></th>\n",
       "      <th></th>\n",
       "      <th></th>\n",
       "      <th></th>\n",
       "      <th></th>\n",
       "      <th></th>\n",
       "      <th></th>\n",
       "      <th></th>\n",
       "      <th></th>\n",
       "      <th></th>\n",
       "      <th></th>\n",
       "      <th></th>\n",
       "      <th></th>\n",
       "    </tr>\n",
       "  </thead>\n",
       "  <tbody>\n",
       "    <tr>\n",
       "      <th>2017-04-03 04:00:00+00:00</th>\n",
       "      <td>108.31</td>\n",
       "      <td>108.68</td>\n",
       "      <td>108.300</td>\n",
       "      <td>108.67</td>\n",
       "      <td>5198006</td>\n",
       "      <td>15992</td>\n",
       "      <td>108.605513</td>\n",
       "      <td>235.79</td>\n",
       "      <td>236.03</td>\n",
       "      <td>233.910</td>\n",
       "      <td>235.33</td>\n",
       "      <td>85546486</td>\n",
       "      <td>278486</td>\n",
       "      <td>235.194832</td>\n",
       "    </tr>\n",
       "    <tr>\n",
       "      <th>2017-04-04 04:00:00+00:00</th>\n",
       "      <td>108.61</td>\n",
       "      <td>108.65</td>\n",
       "      <td>108.520</td>\n",
       "      <td>108.57</td>\n",
       "      <td>1627492</td>\n",
       "      <td>8325</td>\n",
       "      <td>108.591265</td>\n",
       "      <td>235.00</td>\n",
       "      <td>235.58</td>\n",
       "      <td>234.555</td>\n",
       "      <td>235.48</td>\n",
       "      <td>56466195</td>\n",
       "      <td>192579</td>\n",
       "      <td>235.237449</td>\n",
       "    </tr>\n",
       "    <tr>\n",
       "      <th>2017-04-05 04:00:00+00:00</th>\n",
       "      <td>108.48</td>\n",
       "      <td>108.74</td>\n",
       "      <td>108.453</td>\n",
       "      <td>108.69</td>\n",
       "      <td>2304074</td>\n",
       "      <td>11167</td>\n",
       "      <td>108.599103</td>\n",
       "      <td>236.26</td>\n",
       "      <td>237.39</td>\n",
       "      <td>234.540</td>\n",
       "      <td>234.78</td>\n",
       "      <td>108800604</td>\n",
       "      <td>363080</td>\n",
       "      <td>235.933657</td>\n",
       "    </tr>\n",
       "    <tr>\n",
       "      <th>2017-04-06 04:00:00+00:00</th>\n",
       "      <td>108.64</td>\n",
       "      <td>108.71</td>\n",
       "      <td>108.480</td>\n",
       "      <td>108.68</td>\n",
       "      <td>1725301</td>\n",
       "      <td>7746</td>\n",
       "      <td>108.588276</td>\n",
       "      <td>234.96</td>\n",
       "      <td>236.04</td>\n",
       "      <td>234.425</td>\n",
       "      <td>235.44</td>\n",
       "      <td>69135757</td>\n",
       "      <td>244996</td>\n",
       "      <td>235.287745</td>\n",
       "    </tr>\n",
       "    <tr>\n",
       "      <th>2017-04-07 04:00:00+00:00</th>\n",
       "      <td>108.80</td>\n",
       "      <td>108.89</td>\n",
       "      <td>108.420</td>\n",
       "      <td>108.44</td>\n",
       "      <td>1783599</td>\n",
       "      <td>8534</td>\n",
       "      <td>108.645684</td>\n",
       "      <td>235.18</td>\n",
       "      <td>236.00</td>\n",
       "      <td>234.640</td>\n",
       "      <td>235.20</td>\n",
       "      <td>74412311</td>\n",
       "      <td>235941</td>\n",
       "      <td>235.290964</td>\n",
       "    </tr>\n",
       "  </tbody>\n",
       "</table>\n",
       "</div>"
      ],
      "text/plain": [
       "                              AGG                                    \\\n",
       "                             open    high      low   close   volume   \n",
       "timestamp                                                             \n",
       "2017-04-03 04:00:00+00:00  108.31  108.68  108.300  108.67  5198006   \n",
       "2017-04-04 04:00:00+00:00  108.61  108.65  108.520  108.57  1627492   \n",
       "2017-04-05 04:00:00+00:00  108.48  108.74  108.453  108.69  2304074   \n",
       "2017-04-06 04:00:00+00:00  108.64  108.71  108.480  108.68  1725301   \n",
       "2017-04-07 04:00:00+00:00  108.80  108.89  108.420  108.44  1783599   \n",
       "\n",
       "                                                      SPY                   \\\n",
       "                          trade_count        vwap    open    high      low   \n",
       "timestamp                                                                    \n",
       "2017-04-03 04:00:00+00:00       15992  108.605513  235.79  236.03  233.910   \n",
       "2017-04-04 04:00:00+00:00        8325  108.591265  235.00  235.58  234.555   \n",
       "2017-04-05 04:00:00+00:00       11167  108.599103  236.26  237.39  234.540   \n",
       "2017-04-06 04:00:00+00:00        7746  108.588276  234.96  236.04  234.425   \n",
       "2017-04-07 04:00:00+00:00        8534  108.645684  235.18  236.00  234.640   \n",
       "\n",
       "                                                                      \n",
       "                            close     volume trade_count        vwap  \n",
       "timestamp                                                             \n",
       "2017-04-03 04:00:00+00:00  235.33   85546486      278486  235.194832  \n",
       "2017-04-04 04:00:00+00:00  235.48   56466195      192579  235.237449  \n",
       "2017-04-05 04:00:00+00:00  234.78  108800604      363080  235.933657  \n",
       "2017-04-06 04:00:00+00:00  235.44   69135757      244996  235.287745  \n",
       "2017-04-07 04:00:00+00:00  235.20   74412311      235941  235.290964  "
      ]
     },
     "execution_count": 19,
     "metadata": {},
     "output_type": "execute_result"
    }
   ],
   "source": [
    "# Concatenate the ticker DataFrames\n",
    "year_5_df = pd.concat([agg_5, spy_5],axis=1, keys=['AGG', 'SPY'])\n",
    "\n",
    "# Display sample data\n",
    "year_5_df.head()"
   ]
  },
  {
   "cell_type": "code",
   "execution_count": 20,
   "metadata": {},
   "outputs": [],
   "source": [
    "# Configuring a Monte Carlo simulation to forecast 30 years cumulative returns\n",
    "mc_30 = MCSimulation(\n",
    "    portfolio_data = year_5_df,\n",
    "    num_simulation = 1000,\n",
    "    num_trading_days = 252*30)"
   ]
  },
  {
   "cell_type": "code",
   "execution_count": 21,
   "metadata": {},
   "outputs": [
    {
     "data": {
      "text/html": [
       "<div>\n",
       "<style scoped>\n",
       "    .dataframe tbody tr th:only-of-type {\n",
       "        vertical-align: middle;\n",
       "    }\n",
       "\n",
       "    .dataframe tbody tr th {\n",
       "        vertical-align: top;\n",
       "    }\n",
       "\n",
       "    .dataframe thead tr th {\n",
       "        text-align: left;\n",
       "    }\n",
       "\n",
       "    .dataframe thead tr:last-of-type th {\n",
       "        text-align: right;\n",
       "    }\n",
       "</style>\n",
       "<table border=\"1\" class=\"dataframe\">\n",
       "  <thead>\n",
       "    <tr>\n",
       "      <th></th>\n",
       "      <th colspan=\"8\" halign=\"left\">AGG</th>\n",
       "      <th colspan=\"8\" halign=\"left\">SPY</th>\n",
       "    </tr>\n",
       "    <tr>\n",
       "      <th></th>\n",
       "      <th>open</th>\n",
       "      <th>high</th>\n",
       "      <th>low</th>\n",
       "      <th>close</th>\n",
       "      <th>volume</th>\n",
       "      <th>trade_count</th>\n",
       "      <th>vwap</th>\n",
       "      <th>daily_return</th>\n",
       "      <th>open</th>\n",
       "      <th>high</th>\n",
       "      <th>low</th>\n",
       "      <th>close</th>\n",
       "      <th>volume</th>\n",
       "      <th>trade_count</th>\n",
       "      <th>vwap</th>\n",
       "      <th>daily_return</th>\n",
       "    </tr>\n",
       "    <tr>\n",
       "      <th>timestamp</th>\n",
       "      <th></th>\n",
       "      <th></th>\n",
       "      <th></th>\n",
       "      <th></th>\n",
       "      <th></th>\n",
       "      <th></th>\n",
       "      <th></th>\n",
       "      <th></th>\n",
       "      <th></th>\n",
       "      <th></th>\n",
       "      <th></th>\n",
       "      <th></th>\n",
       "      <th></th>\n",
       "      <th></th>\n",
       "      <th></th>\n",
       "      <th></th>\n",
       "    </tr>\n",
       "  </thead>\n",
       "  <tbody>\n",
       "    <tr>\n",
       "      <th>2017-04-03 04:00:00+00:00</th>\n",
       "      <td>108.31</td>\n",
       "      <td>108.68</td>\n",
       "      <td>108.300</td>\n",
       "      <td>108.67</td>\n",
       "      <td>5198006</td>\n",
       "      <td>15992</td>\n",
       "      <td>108.605513</td>\n",
       "      <td>NaN</td>\n",
       "      <td>235.79</td>\n",
       "      <td>236.03</td>\n",
       "      <td>233.910</td>\n",
       "      <td>235.33</td>\n",
       "      <td>85546486</td>\n",
       "      <td>278486</td>\n",
       "      <td>235.194832</td>\n",
       "      <td>NaN</td>\n",
       "    </tr>\n",
       "    <tr>\n",
       "      <th>2017-04-04 04:00:00+00:00</th>\n",
       "      <td>108.61</td>\n",
       "      <td>108.65</td>\n",
       "      <td>108.520</td>\n",
       "      <td>108.57</td>\n",
       "      <td>1627492</td>\n",
       "      <td>8325</td>\n",
       "      <td>108.591265</td>\n",
       "      <td>-0.000920</td>\n",
       "      <td>235.00</td>\n",
       "      <td>235.58</td>\n",
       "      <td>234.555</td>\n",
       "      <td>235.48</td>\n",
       "      <td>56466195</td>\n",
       "      <td>192579</td>\n",
       "      <td>235.237449</td>\n",
       "      <td>0.000637</td>\n",
       "    </tr>\n",
       "    <tr>\n",
       "      <th>2017-04-05 04:00:00+00:00</th>\n",
       "      <td>108.48</td>\n",
       "      <td>108.74</td>\n",
       "      <td>108.453</td>\n",
       "      <td>108.69</td>\n",
       "      <td>2304074</td>\n",
       "      <td>11167</td>\n",
       "      <td>108.599103</td>\n",
       "      <td>0.001105</td>\n",
       "      <td>236.26</td>\n",
       "      <td>237.39</td>\n",
       "      <td>234.540</td>\n",
       "      <td>234.78</td>\n",
       "      <td>108800604</td>\n",
       "      <td>363080</td>\n",
       "      <td>235.933657</td>\n",
       "      <td>-0.002973</td>\n",
       "    </tr>\n",
       "    <tr>\n",
       "      <th>2017-04-06 04:00:00+00:00</th>\n",
       "      <td>108.64</td>\n",
       "      <td>108.71</td>\n",
       "      <td>108.480</td>\n",
       "      <td>108.68</td>\n",
       "      <td>1725301</td>\n",
       "      <td>7746</td>\n",
       "      <td>108.588276</td>\n",
       "      <td>-0.000092</td>\n",
       "      <td>234.96</td>\n",
       "      <td>236.04</td>\n",
       "      <td>234.425</td>\n",
       "      <td>235.44</td>\n",
       "      <td>69135757</td>\n",
       "      <td>244996</td>\n",
       "      <td>235.287745</td>\n",
       "      <td>0.002811</td>\n",
       "    </tr>\n",
       "    <tr>\n",
       "      <th>2017-04-07 04:00:00+00:00</th>\n",
       "      <td>108.80</td>\n",
       "      <td>108.89</td>\n",
       "      <td>108.420</td>\n",
       "      <td>108.44</td>\n",
       "      <td>1783599</td>\n",
       "      <td>8534</td>\n",
       "      <td>108.645684</td>\n",
       "      <td>-0.002208</td>\n",
       "      <td>235.18</td>\n",
       "      <td>236.00</td>\n",
       "      <td>234.640</td>\n",
       "      <td>235.20</td>\n",
       "      <td>74412311</td>\n",
       "      <td>235941</td>\n",
       "      <td>235.290964</td>\n",
       "      <td>-0.001019</td>\n",
       "    </tr>\n",
       "  </tbody>\n",
       "</table>\n",
       "</div>"
      ],
      "text/plain": [
       "                              AGG                                    \\\n",
       "                             open    high      low   close   volume   \n",
       "timestamp                                                             \n",
       "2017-04-03 04:00:00+00:00  108.31  108.68  108.300  108.67  5198006   \n",
       "2017-04-04 04:00:00+00:00  108.61  108.65  108.520  108.57  1627492   \n",
       "2017-04-05 04:00:00+00:00  108.48  108.74  108.453  108.69  2304074   \n",
       "2017-04-06 04:00:00+00:00  108.64  108.71  108.480  108.68  1725301   \n",
       "2017-04-07 04:00:00+00:00  108.80  108.89  108.420  108.44  1783599   \n",
       "\n",
       "                                                                   SPY  \\\n",
       "                          trade_count        vwap daily_return    open   \n",
       "timestamp                                                                \n",
       "2017-04-03 04:00:00+00:00       15992  108.605513          NaN  235.79   \n",
       "2017-04-04 04:00:00+00:00        8325  108.591265    -0.000920  235.00   \n",
       "2017-04-05 04:00:00+00:00       11167  108.599103     0.001105  236.26   \n",
       "2017-04-06 04:00:00+00:00        7746  108.588276    -0.000092  234.96   \n",
       "2017-04-07 04:00:00+00:00        8534  108.645684    -0.002208  235.18   \n",
       "\n",
       "                                                                           \\\n",
       "                             high      low   close     volume trade_count   \n",
       "timestamp                                                                   \n",
       "2017-04-03 04:00:00+00:00  236.03  233.910  235.33   85546486      278486   \n",
       "2017-04-04 04:00:00+00:00  235.58  234.555  235.48   56466195      192579   \n",
       "2017-04-05 04:00:00+00:00  237.39  234.540  234.78  108800604      363080   \n",
       "2017-04-06 04:00:00+00:00  236.04  234.425  235.44   69135757      244996   \n",
       "2017-04-07 04:00:00+00:00  236.00  234.640  235.20   74412311      235941   \n",
       "\n",
       "                                                    \n",
       "                                 vwap daily_return  \n",
       "timestamp                                           \n",
       "2017-04-03 04:00:00+00:00  235.194832          NaN  \n",
       "2017-04-04 04:00:00+00:00  235.237449     0.000637  \n",
       "2017-04-05 04:00:00+00:00  235.933657    -0.002973  \n",
       "2017-04-06 04:00:00+00:00  235.287745     0.002811  \n",
       "2017-04-07 04:00:00+00:00  235.290964    -0.001019  "
      ]
     },
     "execution_count": 21,
     "metadata": {},
     "output_type": "execute_result"
    }
   ],
   "source": [
    "# Printing the simulation input data\n",
    "mc_30.portfolio_data.head()"
   ]
  },
  {
   "cell_type": "code",
   "execution_count": 22,
   "metadata": {},
   "outputs": [
    {
     "name": "stdout",
     "output_type": "stream",
     "text": [
      "Running Monte Carlo simulation number 0.\n",
      "Running Monte Carlo simulation number 10.\n",
      "Running Monte Carlo simulation number 20.\n",
      "Running Monte Carlo simulation number 30.\n",
      "Running Monte Carlo simulation number 40.\n",
      "Running Monte Carlo simulation number 50.\n",
      "Running Monte Carlo simulation number 60.\n",
      "Running Monte Carlo simulation number 70.\n",
      "Running Monte Carlo simulation number 80.\n",
      "Running Monte Carlo simulation number 90.\n",
      "Running Monte Carlo simulation number 100.\n"
     ]
    },
    {
     "name": "stderr",
     "output_type": "stream",
     "text": [
      "C:\\Users\\Kurt\\Desktop\\FinTech Course Notes\\USYD-VIRT-FIN-PT-03-2022-U-LOL\\05-APIs\\Homework\\Instructions\\Starter_Code\\MCForecastTools.py:117: PerformanceWarning: DataFrame is highly fragmented.  This is usually the result of calling `frame.insert` many times, which has poor performance.  Consider joining all columns at once using pd.concat(axis=1) instead.  To get a de-fragmented frame, use `newframe = frame.copy()`\n",
      "  portfolio_cumulative_returns[n] = (1 + sim_df.fillna(0)).cumprod()\n"
     ]
    },
    {
     "name": "stdout",
     "output_type": "stream",
     "text": [
      "Running Monte Carlo simulation number 110.\n",
      "Running Monte Carlo simulation number 120.\n",
      "Running Monte Carlo simulation number 130.\n",
      "Running Monte Carlo simulation number 140.\n",
      "Running Monte Carlo simulation number 150.\n",
      "Running Monte Carlo simulation number 160.\n",
      "Running Monte Carlo simulation number 170.\n",
      "Running Monte Carlo simulation number 180.\n",
      "Running Monte Carlo simulation number 190.\n",
      "Running Monte Carlo simulation number 200.\n",
      "Running Monte Carlo simulation number 210.\n",
      "Running Monte Carlo simulation number 220.\n",
      "Running Monte Carlo simulation number 230.\n",
      "Running Monte Carlo simulation number 240.\n",
      "Running Monte Carlo simulation number 250.\n",
      "Running Monte Carlo simulation number 260.\n",
      "Running Monte Carlo simulation number 270.\n",
      "Running Monte Carlo simulation number 280.\n",
      "Running Monte Carlo simulation number 290.\n",
      "Running Monte Carlo simulation number 300.\n",
      "Running Monte Carlo simulation number 310.\n",
      "Running Monte Carlo simulation number 320.\n",
      "Running Monte Carlo simulation number 330.\n",
      "Running Monte Carlo simulation number 340.\n",
      "Running Monte Carlo simulation number 350.\n",
      "Running Monte Carlo simulation number 360.\n",
      "Running Monte Carlo simulation number 370.\n",
      "Running Monte Carlo simulation number 380.\n",
      "Running Monte Carlo simulation number 390.\n",
      "Running Monte Carlo simulation number 400.\n",
      "Running Monte Carlo simulation number 410.\n",
      "Running Monte Carlo simulation number 420.\n",
      "Running Monte Carlo simulation number 430.\n",
      "Running Monte Carlo simulation number 440.\n",
      "Running Monte Carlo simulation number 450.\n",
      "Running Monte Carlo simulation number 460.\n",
      "Running Monte Carlo simulation number 470.\n",
      "Running Monte Carlo simulation number 480.\n",
      "Running Monte Carlo simulation number 490.\n",
      "Running Monte Carlo simulation number 500.\n",
      "Running Monte Carlo simulation number 510.\n",
      "Running Monte Carlo simulation number 520.\n",
      "Running Monte Carlo simulation number 530.\n",
      "Running Monte Carlo simulation number 540.\n",
      "Running Monte Carlo simulation number 550.\n",
      "Running Monte Carlo simulation number 560.\n",
      "Running Monte Carlo simulation number 570.\n",
      "Running Monte Carlo simulation number 580.\n",
      "Running Monte Carlo simulation number 590.\n",
      "Running Monte Carlo simulation number 600.\n",
      "Running Monte Carlo simulation number 610.\n",
      "Running Monte Carlo simulation number 620.\n",
      "Running Monte Carlo simulation number 630.\n",
      "Running Monte Carlo simulation number 640.\n",
      "Running Monte Carlo simulation number 650.\n",
      "Running Monte Carlo simulation number 660.\n",
      "Running Monte Carlo simulation number 670.\n",
      "Running Monte Carlo simulation number 680.\n",
      "Running Monte Carlo simulation number 690.\n",
      "Running Monte Carlo simulation number 700.\n",
      "Running Monte Carlo simulation number 710.\n",
      "Running Monte Carlo simulation number 720.\n",
      "Running Monte Carlo simulation number 730.\n",
      "Running Monte Carlo simulation number 740.\n",
      "Running Monte Carlo simulation number 750.\n",
      "Running Monte Carlo simulation number 760.\n",
      "Running Monte Carlo simulation number 770.\n",
      "Running Monte Carlo simulation number 780.\n",
      "Running Monte Carlo simulation number 790.\n",
      "Running Monte Carlo simulation number 800.\n",
      "Running Monte Carlo simulation number 810.\n",
      "Running Monte Carlo simulation number 820.\n",
      "Running Monte Carlo simulation number 830.\n",
      "Running Monte Carlo simulation number 840.\n",
      "Running Monte Carlo simulation number 850.\n",
      "Running Monte Carlo simulation number 860.\n",
      "Running Monte Carlo simulation number 870.\n",
      "Running Monte Carlo simulation number 880.\n",
      "Running Monte Carlo simulation number 890.\n",
      "Running Monte Carlo simulation number 900.\n",
      "Running Monte Carlo simulation number 910.\n",
      "Running Monte Carlo simulation number 920.\n",
      "Running Monte Carlo simulation number 930.\n",
      "Running Monte Carlo simulation number 940.\n",
      "Running Monte Carlo simulation number 950.\n",
      "Running Monte Carlo simulation number 960.\n",
      "Running Monte Carlo simulation number 970.\n",
      "Running Monte Carlo simulation number 980.\n",
      "Running Monte Carlo simulation number 990.\n"
     ]
    },
    {
     "data": {
      "text/html": [
       "<div>\n",
       "<style scoped>\n",
       "    .dataframe tbody tr th:only-of-type {\n",
       "        vertical-align: middle;\n",
       "    }\n",
       "\n",
       "    .dataframe tbody tr th {\n",
       "        vertical-align: top;\n",
       "    }\n",
       "\n",
       "    .dataframe thead th {\n",
       "        text-align: right;\n",
       "    }\n",
       "</style>\n",
       "<table border=\"1\" class=\"dataframe\">\n",
       "  <thead>\n",
       "    <tr style=\"text-align: right;\">\n",
       "      <th></th>\n",
       "      <th>0</th>\n",
       "      <th>1</th>\n",
       "      <th>2</th>\n",
       "      <th>3</th>\n",
       "      <th>4</th>\n",
       "      <th>5</th>\n",
       "      <th>6</th>\n",
       "      <th>7</th>\n",
       "      <th>8</th>\n",
       "      <th>9</th>\n",
       "      <th>...</th>\n",
       "      <th>990</th>\n",
       "      <th>991</th>\n",
       "      <th>992</th>\n",
       "      <th>993</th>\n",
       "      <th>994</th>\n",
       "      <th>995</th>\n",
       "      <th>996</th>\n",
       "      <th>997</th>\n",
       "      <th>998</th>\n",
       "      <th>999</th>\n",
       "    </tr>\n",
       "  </thead>\n",
       "  <tbody>\n",
       "    <tr>\n",
       "      <th>0</th>\n",
       "      <td>1.000000</td>\n",
       "      <td>1.000000</td>\n",
       "      <td>1.000000</td>\n",
       "      <td>1.000000</td>\n",
       "      <td>1.000000</td>\n",
       "      <td>1.000000</td>\n",
       "      <td>1.000000</td>\n",
       "      <td>1.000000</td>\n",
       "      <td>1.000000</td>\n",
       "      <td>1.000000</td>\n",
       "      <td>...</td>\n",
       "      <td>1.000000</td>\n",
       "      <td>1.000000</td>\n",
       "      <td>1.000000</td>\n",
       "      <td>1.000000</td>\n",
       "      <td>1.000000</td>\n",
       "      <td>1.000000</td>\n",
       "      <td>1.000000</td>\n",
       "      <td>1.000000</td>\n",
       "      <td>1.000000</td>\n",
       "      <td>1.000000</td>\n",
       "    </tr>\n",
       "    <tr>\n",
       "      <th>1</th>\n",
       "      <td>0.998422</td>\n",
       "      <td>1.003681</td>\n",
       "      <td>1.000231</td>\n",
       "      <td>1.008699</td>\n",
       "      <td>0.994954</td>\n",
       "      <td>0.998645</td>\n",
       "      <td>1.007853</td>\n",
       "      <td>1.005377</td>\n",
       "      <td>1.008880</td>\n",
       "      <td>1.002141</td>\n",
       "      <td>...</td>\n",
       "      <td>1.019138</td>\n",
       "      <td>0.995911</td>\n",
       "      <td>0.993785</td>\n",
       "      <td>1.005619</td>\n",
       "      <td>0.998319</td>\n",
       "      <td>0.993666</td>\n",
       "      <td>1.005972</td>\n",
       "      <td>1.001935</td>\n",
       "      <td>0.988981</td>\n",
       "      <td>0.992556</td>\n",
       "    </tr>\n",
       "    <tr>\n",
       "      <th>2</th>\n",
       "      <td>0.999619</td>\n",
       "      <td>1.001187</td>\n",
       "      <td>0.999855</td>\n",
       "      <td>1.013171</td>\n",
       "      <td>0.999438</td>\n",
       "      <td>0.998552</td>\n",
       "      <td>1.015470</td>\n",
       "      <td>1.010400</td>\n",
       "      <td>1.008036</td>\n",
       "      <td>0.996940</td>\n",
       "      <td>...</td>\n",
       "      <td>1.002280</td>\n",
       "      <td>0.999644</td>\n",
       "      <td>0.981503</td>\n",
       "      <td>0.996862</td>\n",
       "      <td>0.995120</td>\n",
       "      <td>1.002072</td>\n",
       "      <td>1.004459</td>\n",
       "      <td>1.001380</td>\n",
       "      <td>0.981608</td>\n",
       "      <td>0.994171</td>\n",
       "    </tr>\n",
       "    <tr>\n",
       "      <th>3</th>\n",
       "      <td>1.000011</td>\n",
       "      <td>0.996492</td>\n",
       "      <td>0.998778</td>\n",
       "      <td>1.015555</td>\n",
       "      <td>1.006606</td>\n",
       "      <td>0.999642</td>\n",
       "      <td>1.012646</td>\n",
       "      <td>1.009131</td>\n",
       "      <td>1.023774</td>\n",
       "      <td>0.995495</td>\n",
       "      <td>...</td>\n",
       "      <td>1.002809</td>\n",
       "      <td>1.003795</td>\n",
       "      <td>0.984779</td>\n",
       "      <td>0.988901</td>\n",
       "      <td>0.996953</td>\n",
       "      <td>0.998689</td>\n",
       "      <td>1.004745</td>\n",
       "      <td>1.004266</td>\n",
       "      <td>0.981080</td>\n",
       "      <td>1.000058</td>\n",
       "    </tr>\n",
       "    <tr>\n",
       "      <th>4</th>\n",
       "      <td>0.999846</td>\n",
       "      <td>0.990049</td>\n",
       "      <td>1.003496</td>\n",
       "      <td>1.017474</td>\n",
       "      <td>1.007908</td>\n",
       "      <td>0.996210</td>\n",
       "      <td>1.003459</td>\n",
       "      <td>1.012200</td>\n",
       "      <td>1.021474</td>\n",
       "      <td>1.000787</td>\n",
       "      <td>...</td>\n",
       "      <td>0.998254</td>\n",
       "      <td>0.992295</td>\n",
       "      <td>0.965877</td>\n",
       "      <td>0.978861</td>\n",
       "      <td>0.998280</td>\n",
       "      <td>0.989366</td>\n",
       "      <td>1.000596</td>\n",
       "      <td>1.013631</td>\n",
       "      <td>0.979445</td>\n",
       "      <td>0.999032</td>\n",
       "    </tr>\n",
       "    <tr>\n",
       "      <th>...</th>\n",
       "      <td>...</td>\n",
       "      <td>...</td>\n",
       "      <td>...</td>\n",
       "      <td>...</td>\n",
       "      <td>...</td>\n",
       "      <td>...</td>\n",
       "      <td>...</td>\n",
       "      <td>...</td>\n",
       "      <td>...</td>\n",
       "      <td>...</td>\n",
       "      <td>...</td>\n",
       "      <td>...</td>\n",
       "      <td>...</td>\n",
       "      <td>...</td>\n",
       "      <td>...</td>\n",
       "      <td>...</td>\n",
       "      <td>...</td>\n",
       "      <td>...</td>\n",
       "      <td>...</td>\n",
       "      <td>...</td>\n",
       "      <td>...</td>\n",
       "    </tr>\n",
       "    <tr>\n",
       "      <th>7556</th>\n",
       "      <td>5.263836</td>\n",
       "      <td>10.829612</td>\n",
       "      <td>10.496374</td>\n",
       "      <td>18.131970</td>\n",
       "      <td>9.699979</td>\n",
       "      <td>7.283683</td>\n",
       "      <td>12.300373</td>\n",
       "      <td>6.308737</td>\n",
       "      <td>6.402888</td>\n",
       "      <td>14.520986</td>\n",
       "      <td>...</td>\n",
       "      <td>4.594794</td>\n",
       "      <td>5.335891</td>\n",
       "      <td>8.109344</td>\n",
       "      <td>6.496291</td>\n",
       "      <td>11.547808</td>\n",
       "      <td>13.545021</td>\n",
       "      <td>8.785405</td>\n",
       "      <td>6.525662</td>\n",
       "      <td>3.005062</td>\n",
       "      <td>10.217087</td>\n",
       "    </tr>\n",
       "    <tr>\n",
       "      <th>7557</th>\n",
       "      <td>5.200466</td>\n",
       "      <td>10.847195</td>\n",
       "      <td>10.439335</td>\n",
       "      <td>18.181421</td>\n",
       "      <td>9.659591</td>\n",
       "      <td>7.298396</td>\n",
       "      <td>12.271801</td>\n",
       "      <td>6.289595</td>\n",
       "      <td>6.369380</td>\n",
       "      <td>14.489829</td>\n",
       "      <td>...</td>\n",
       "      <td>4.612550</td>\n",
       "      <td>5.372657</td>\n",
       "      <td>8.129127</td>\n",
       "      <td>6.560859</td>\n",
       "      <td>11.423556</td>\n",
       "      <td>13.459777</td>\n",
       "      <td>8.813163</td>\n",
       "      <td>6.553930</td>\n",
       "      <td>3.006974</td>\n",
       "      <td>10.343106</td>\n",
       "    </tr>\n",
       "    <tr>\n",
       "      <th>7558</th>\n",
       "      <td>5.271760</td>\n",
       "      <td>10.825415</td>\n",
       "      <td>10.493119</td>\n",
       "      <td>18.260358</td>\n",
       "      <td>9.587447</td>\n",
       "      <td>7.264340</td>\n",
       "      <td>12.338985</td>\n",
       "      <td>6.295798</td>\n",
       "      <td>6.333180</td>\n",
       "      <td>14.555128</td>\n",
       "      <td>...</td>\n",
       "      <td>4.627976</td>\n",
       "      <td>5.378795</td>\n",
       "      <td>8.153895</td>\n",
       "      <td>6.551400</td>\n",
       "      <td>11.532912</td>\n",
       "      <td>13.529939</td>\n",
       "      <td>8.939121</td>\n",
       "      <td>6.551034</td>\n",
       "      <td>2.991446</td>\n",
       "      <td>10.337593</td>\n",
       "    </tr>\n",
       "    <tr>\n",
       "      <th>7559</th>\n",
       "      <td>5.257494</td>\n",
       "      <td>10.930178</td>\n",
       "      <td>10.391009</td>\n",
       "      <td>18.422964</td>\n",
       "      <td>9.629586</td>\n",
       "      <td>7.325099</td>\n",
       "      <td>12.382586</td>\n",
       "      <td>6.349638</td>\n",
       "      <td>6.325912</td>\n",
       "      <td>14.610316</td>\n",
       "      <td>...</td>\n",
       "      <td>4.652541</td>\n",
       "      <td>5.438649</td>\n",
       "      <td>8.203853</td>\n",
       "      <td>6.513633</td>\n",
       "      <td>11.610459</td>\n",
       "      <td>13.301518</td>\n",
       "      <td>9.011253</td>\n",
       "      <td>6.556851</td>\n",
       "      <td>2.991010</td>\n",
       "      <td>10.453368</td>\n",
       "    </tr>\n",
       "    <tr>\n",
       "      <th>7560</th>\n",
       "      <td>5.249750</td>\n",
       "      <td>10.899549</td>\n",
       "      <td>10.407203</td>\n",
       "      <td>18.422506</td>\n",
       "      <td>9.556608</td>\n",
       "      <td>7.344745</td>\n",
       "      <td>12.359230</td>\n",
       "      <td>6.339161</td>\n",
       "      <td>6.316478</td>\n",
       "      <td>14.740248</td>\n",
       "      <td>...</td>\n",
       "      <td>4.558949</td>\n",
       "      <td>5.455296</td>\n",
       "      <td>8.176649</td>\n",
       "      <td>6.516471</td>\n",
       "      <td>11.587752</td>\n",
       "      <td>13.492720</td>\n",
       "      <td>8.974815</td>\n",
       "      <td>6.483644</td>\n",
       "      <td>2.977074</td>\n",
       "      <td>10.542788</td>\n",
       "    </tr>\n",
       "  </tbody>\n",
       "</table>\n",
       "<p>7561 rows × 1000 columns</p>\n",
       "</div>"
      ],
      "text/plain": [
       "           0          1          2          3         4         5    \\\n",
       "0     1.000000   1.000000   1.000000   1.000000  1.000000  1.000000   \n",
       "1     0.998422   1.003681   1.000231   1.008699  0.994954  0.998645   \n",
       "2     0.999619   1.001187   0.999855   1.013171  0.999438  0.998552   \n",
       "3     1.000011   0.996492   0.998778   1.015555  1.006606  0.999642   \n",
       "4     0.999846   0.990049   1.003496   1.017474  1.007908  0.996210   \n",
       "...        ...        ...        ...        ...       ...       ...   \n",
       "7556  5.263836  10.829612  10.496374  18.131970  9.699979  7.283683   \n",
       "7557  5.200466  10.847195  10.439335  18.181421  9.659591  7.298396   \n",
       "7558  5.271760  10.825415  10.493119  18.260358  9.587447  7.264340   \n",
       "7559  5.257494  10.930178  10.391009  18.422964  9.629586  7.325099   \n",
       "7560  5.249750  10.899549  10.407203  18.422506  9.556608  7.344745   \n",
       "\n",
       "            6         7         8          9    ...       990       991  \\\n",
       "0      1.000000  1.000000  1.000000   1.000000  ...  1.000000  1.000000   \n",
       "1      1.007853  1.005377  1.008880   1.002141  ...  1.019138  0.995911   \n",
       "2      1.015470  1.010400  1.008036   0.996940  ...  1.002280  0.999644   \n",
       "3      1.012646  1.009131  1.023774   0.995495  ...  1.002809  1.003795   \n",
       "4      1.003459  1.012200  1.021474   1.000787  ...  0.998254  0.992295   \n",
       "...         ...       ...       ...        ...  ...       ...       ...   \n",
       "7556  12.300373  6.308737  6.402888  14.520986  ...  4.594794  5.335891   \n",
       "7557  12.271801  6.289595  6.369380  14.489829  ...  4.612550  5.372657   \n",
       "7558  12.338985  6.295798  6.333180  14.555128  ...  4.627976  5.378795   \n",
       "7559  12.382586  6.349638  6.325912  14.610316  ...  4.652541  5.438649   \n",
       "7560  12.359230  6.339161  6.316478  14.740248  ...  4.558949  5.455296   \n",
       "\n",
       "           992       993        994        995       996       997       998  \\\n",
       "0     1.000000  1.000000   1.000000   1.000000  1.000000  1.000000  1.000000   \n",
       "1     0.993785  1.005619   0.998319   0.993666  1.005972  1.001935  0.988981   \n",
       "2     0.981503  0.996862   0.995120   1.002072  1.004459  1.001380  0.981608   \n",
       "3     0.984779  0.988901   0.996953   0.998689  1.004745  1.004266  0.981080   \n",
       "4     0.965877  0.978861   0.998280   0.989366  1.000596  1.013631  0.979445   \n",
       "...        ...       ...        ...        ...       ...       ...       ...   \n",
       "7556  8.109344  6.496291  11.547808  13.545021  8.785405  6.525662  3.005062   \n",
       "7557  8.129127  6.560859  11.423556  13.459777  8.813163  6.553930  3.006974   \n",
       "7558  8.153895  6.551400  11.532912  13.529939  8.939121  6.551034  2.991446   \n",
       "7559  8.203853  6.513633  11.610459  13.301518  9.011253  6.556851  2.991010   \n",
       "7560  8.176649  6.516471  11.587752  13.492720  8.974815  6.483644  2.977074   \n",
       "\n",
       "            999  \n",
       "0      1.000000  \n",
       "1      0.992556  \n",
       "2      0.994171  \n",
       "3      1.000058  \n",
       "4      0.999032  \n",
       "...         ...  \n",
       "7556  10.217087  \n",
       "7557  10.343106  \n",
       "7558  10.337593  \n",
       "7559  10.453368  \n",
       "7560  10.542788  \n",
       "\n",
       "[7561 rows x 1000 columns]"
      ]
     },
     "execution_count": 22,
     "metadata": {},
     "output_type": "execute_result"
    }
   ],
   "source": [
    "# Running a Monte Carlo simulation to forecast 30 years cumulative returns\n",
    "mc_30.calc_cumulative_return()"
   ]
  },
  {
   "cell_type": "code",
   "execution_count": 23,
   "metadata": {},
   "outputs": [
    {
     "data": {
      "image/png": "[encoded data removed]",
      "text/plain": [
       "<Figure size 432x288 with 1 Axes>"
      ]
     },
     "metadata": {
      "needs_background": "light"
     },
     "output_type": "display_data"
    }
   ],
   "source": [
    "# Plot simulation outcomes\n",
    "mc_30_plot = mc_30.plot_simulation()"
   ]
  },
  {
   "cell_type": "code",
   "execution_count": 24,
   "metadata": {},
   "outputs": [
    {
     "data": {
      "image/png": "[encoded data removed]",
      "text/plain": [
       "<Figure size 432x288 with 1 Axes>"
      ]
     },
     "metadata": {
      "needs_background": "light"
     },
     "output_type": "display_data"
    }
   ],
   "source": [
    "# Plot probability distribution and confidence intervals\n",
    "portfolio_dist_plot = mc_30.plot_distribution()"
   ]
  },
  {
   "cell_type": "markdown",
   "metadata": {},
   "source": [
    "### Retirement Analysis"
   ]
  },
  {
   "cell_type": "code",
   "execution_count": 25,
   "metadata": {},
   "outputs": [
    {
     "name": "stdout",
     "output_type": "stream",
     "text": [
      "count           1000.000000\n",
      "mean               9.459519\n",
      "std                5.753894\n",
      "min                1.652314\n",
      "25%                5.497148\n",
      "50%                8.272965\n",
      "75%               11.610397\n",
      "max               54.932240\n",
      "95% CI Lower       2.761161\n",
      "95% CI Upper      24.300355\n",
      "Name: 7560, dtype: float64\n"
     ]
    }
   ],
   "source": [
    "# Fetch summary statistics from the Monte Carlo simulation results\n",
    "portfolio_table = mc_30.summarize_cumulative_return()\n",
    "\n",
    "# Print summary statistics\n",
    "print(portfolio_table)"
   ]
  },
  {
   "cell_type": "markdown",
   "metadata": {},
   "source": [
    "### Calculate the expected portfolio return at the `95%` lower and upper confidence intervals based on a `$20,000` initial investment."
   ]
  },
  {
   "cell_type": "code",
   "execution_count": 26,
   "metadata": {},
   "outputs": [
    {
     "name": "stdout",
     "output_type": "stream",
     "text": [
      "There is a 95% chance that an initial investment of $20000 in the portfolio over the next 30 years will end within in the range of $55223.22 and $486007.1\n"
     ]
    }
   ],
   "source": [
    "# Set initial investment\n",
    "initial_investment = 20000\n",
    "\n",
    "# Use the lower and upper `95%` confidence intervals to calculate the range of the possible outcomes of our $20,000\n",
    "portfolio_ci_lower = round(portfolio_table[8]*initial_investment,2)\n",
    "portfolio_ci_upper = round(portfolio_table[9]*initial_investment,2)\n",
    "\n",
    "# Print results\n",
    "print(f\"There is a 95% chance that an initial investment of ${initial_investment} in the portfolio\"\n",
    "      f\" over the next 30 years will end within in the range of\"\n",
    "      f\" ${portfolio_ci_lower} and ${portfolio_ci_upper}\")"
   ]
  },
  {
   "cell_type": "markdown",
   "metadata": {},
   "source": [
    "### Calculate the expected portfolio return at the `95%` lower and upper confidence intervals based on a `50%` increase in the initial investment."
   ]
  },
  {
   "cell_type": "code",
   "execution_count": 27,
   "metadata": {},
   "outputs": [
    {
     "name": "stdout",
     "output_type": "stream",
     "text": [
      "There is a 95% chance that an initial investment of $30000.0 in the portfolio over the next 30 years will end within in the range of $82834.83 and $729010.65\n"
     ]
    }
   ],
   "source": [
    "# Set initial investment\n",
    "initial_investment = 20000 * 1.5\n",
    "\n",
    "# Use the lower and upper `95%` confidence intervals to calculate the range of the possible outcomes of our $30,000\n",
    "portfolio_ci_lower = round(portfolio_table[8]*initial_investment,2)\n",
    "portfolio_ci_upper = round(portfolio_table[9]*initial_investment,2)\n",
    "\n",
    "# Print results\n",
    "print(f\"There is a 95% chance that an initial investment of ${initial_investment} in the portfolio\"\n",
    "      f\" over the next 30 years will end within in the range of\"\n",
    "      f\" ${portfolio_ci_lower} and ${portfolio_ci_upper}\")"
   ]
  },
  {
   "cell_type": "markdown",
   "metadata": {},
   "source": [
    "## Optional Challenge - Early Retirement\n",
    "\n",
    "\n",
    "### Five Years Retirement Option"
   ]
  },
  {
   "cell_type": "code",
   "execution_count": 28,
   "metadata": {},
   "outputs": [],
   "source": [
    "# Configuring a Monte Carlo simulation to forecast 5 years cumulative returns\n",
    "# YOUR CODE HERE!"
   ]
  },
  {
   "cell_type": "code",
   "execution_count": 29,
   "metadata": {},
   "outputs": [],
   "source": [
    "# Running a Monte Carlo simulation to forecast 5 years cumulative returns\n",
    "# YOUR CODE HERE!"
   ]
  },
  {
   "cell_type": "code",
   "execution_count": 30,
   "metadata": {},
   "outputs": [],
   "source": [
    "# Plot simulation outcomes\n",
    "# YOUR CODE HERE!"
   ]
  },
  {
   "cell_type": "code",
   "execution_count": 31,
   "metadata": {},
   "outputs": [],
   "source": [
    "# Plot probability distribution and confidence intervals\n",
    "# YOUR CODE HERE!"
   ]
  },
  {
   "cell_type": "code",
   "execution_count": 32,
   "metadata": {},
   "outputs": [],
   "source": [
    "# Fetch summary statistics from the Monte Carlo simulation results\n",
    "# YOUR CODE HERE!\n",
    "\n",
    "# Print summary statistics\n",
    "# YOUR CODE HERE!"
   ]
  },
  {
   "cell_type": "code",
   "execution_count": 33,
   "metadata": {},
   "outputs": [
    {
     "ename": "NameError",
     "evalue": "name 'ci_lower_five' is not defined",
     "output_type": "error",
     "traceback": [
      "\u001b[1;31m---------------------------------------------------------------------------\u001b[0m",
      "\u001b[1;31mNameError\u001b[0m                                 Traceback (most recent call last)",
      "\u001b[1;32m~\\AppData\\Local\\Temp/ipykernel_17132/2498605119.py\u001b[0m in \u001b[0;36m<module>\u001b[1;34m\u001b[0m\n\u001b[0;32m      8\u001b[0m print(f\"There is a 95% chance that an initial investment of ${initial_investment} in the portfolio\"\n\u001b[0;32m      9\u001b[0m       \u001b[1;34mf\" over the next 5 years will end within in the range of\"\u001b[0m\u001b[1;33m\u001b[0m\u001b[1;33m\u001b[0m\u001b[0m\n\u001b[1;32m---> 10\u001b[1;33m       f\" ${ci_lower_five} and ${ci_upper_five}\")\n\u001b[0m",
      "\u001b[1;31mNameError\u001b[0m: name 'ci_lower_five' is not defined"
     ]
    }
   ],
   "source": [
    "# Set initial investment\n",
    "# YOUR CODE HERE!\n",
    "\n",
    "# Use the lower and upper `95%` confidence intervals to calculate the range of the possible outcomes of our $60,000\n",
    "# YOUR CODE HERE!\n",
    "\n",
    "# Print results\n",
    "print(f\"There is a 95% chance that an initial investment of ${initial_investment} in the portfolio\"\n",
    "      f\" over the next 5 years will end within in the range of\"\n",
    "      f\" ${ci_lower_five} and ${ci_upper_five}\")"
   ]
  },
  {
   "cell_type": "markdown",
   "metadata": {},
   "source": [
    "### Ten Years Retirement Option"
   ]
  },
  {
   "cell_type": "code",
   "execution_count": null,
   "metadata": {},
   "outputs": [],
   "source": [
    "# Configuring a Monte Carlo simulation to forecast 10 years cumulative returns\n",
    "# YOUR CODE HERE!"
   ]
  },
  {
   "cell_type": "code",
   "execution_count": null,
   "metadata": {},
   "outputs": [],
   "source": [
    "# Running a Monte Carlo simulation to forecast 10 years cumulative returns\n",
    "# YOUR CODE HERE!"
   ]
  },
  {
   "cell_type": "code",
   "execution_count": null,
   "metadata": {},
   "outputs": [],
   "source": [
    "# Plot simulation outcomes\n",
    "# YOUR CODE HERE!"
   ]
  },
  {
   "cell_type": "code",
   "execution_count": null,
   "metadata": {},
   "outputs": [],
   "source": [
    "# Plot probability distribution and confidence intervals\n",
    "# YOUR CODE HERE!"
   ]
  },
  {
   "cell_type": "code",
   "execution_count": null,
   "metadata": {},
   "outputs": [],
   "source": [
    "# Fetch summary statistics from the Monte Carlo simulation results\n",
    "# YOUR CODE HERE!\n",
    "\n",
    "# Print summary statistics\n",
    "# YOUR CODE HERE!"
   ]
  },
  {
   "cell_type": "code",
   "execution_count": null,
   "metadata": {},
   "outputs": [],
   "source": [
    "# Set initial investment\n",
    "# YOUR CODE HERE!\n",
    "\n",
    "# Use the lower and upper `95%` confidence intervals to calculate the range of the possible outcomes of our $60,000\n",
    "# YOUR CODE HERE!\n",
    "\n",
    "# Print results\n",
    "print(f\"There is a 95% chance that an initial investment of ${initial_investment} in the portfolio\"\n",
    "      f\" over the next 10 years will end within in the range of\"\n",
    "      f\" ${ci_lower_ten} and ${ci_upper_ten}\")"
   ]
  },
  {
   "cell_type": "code",
   "execution_count": null,
   "metadata": {},
   "outputs": [],
   "source": []
  }
 ],
 "metadata": {
  "kernelspec": {
   "display_name": "Python 3 (ipykernel)",
   "language": "python",
   "name": "python3"
  },
  "language_info": {
   "codemirror_mode": {
    "name": "ipython",
    "version": 3
   },
   "file_extension": ".py",
   "mimetype": "text/x-python",
   "name": "python",
   "nbconvert_exporter": "python",
   "pygments_lexer": "ipython3",
   "version": "3.7.11"
  },
  "nteract": {
   "version": "0.28.0"
  }
 },
 "nbformat": 4,
 "nbformat_minor": 4
}
